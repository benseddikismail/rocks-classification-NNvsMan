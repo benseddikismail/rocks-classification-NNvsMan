{
  "cells": [
    {
      "cell_type": "markdown",
      "metadata": {
        "id": "iY_zCHl9qvq0"
      },
      "source": [
        "# Rocks Neural Network vs Man Classification\n"
      ]
    },
    {
      "cell_type": "markdown",
      "metadata": {
        "id": "tYtomg-jq6Jr"
      },
      "source": [
        "# Preliminaries"
      ]
    },
    {
      "cell_type": "code",
      "execution_count": null,
      "metadata": {
        "id": "cd1m-OcIqrn7"
      },
      "outputs": [],
      "source": [
        "# Basic dataframe and array manipulation\n",
        "import pandas as pd\n",
        "import numpy as np\n",
        "\n",
        "# Data visualization\n",
        "import matplotlib as mpl\n",
        "import matplotlib.pyplot as plt\n",
        "import seaborn as sns\n",
        "from pandas.plotting import scatter_matrix\n",
        "from matplotlib.offsetbox import OffsetImage, AnnotationBbox\n",
        "\n",
        "# Data preprocessing\n",
        "from sklearn.model_selection import train_test_split\n",
        "from sklearn.preprocessing import LabelEncoder\n",
        "\n",
        "# Dimensionality reduction\n",
        "from sklearn.decomposition import PCA\n",
        "from sklearn.manifold import TSNE\n",
        "from sklearn.manifold import MDS\n",
        "from sklearn.manifold import LocallyLinearEmbedding\n",
        "from scipy.spatial import procrustes\n",
        "\n",
        "# Model performance\n",
        "from sklearn.metrics import confusion_matrix, classification_report\n",
        "from sklearn.metrics import precision_score, recall_score\n",
        "from sklearn.metrics import f1_score\n",
        "from mlxtend.plotting import plot_confusion_matrix\n",
        "from sklearn.metrics import silhouette_score\n",
        "\n",
        "# To deal with unnecesary warning Warnings\n",
        "import warnings\n",
        "warnings.simplefilter(\"ignore\")\n",
        "\n",
        "# Reading images\n",
        "from PIL import Image\n",
        "import os\n",
        "\n",
        "# Clustering\n",
        "from sklearn.cluster import KMeans\n",
        "from sklearn.mixture import GaussianMixture\n",
        "\n",
        "# Neural network (Keras and Tensorflow)\n",
        "import keras\n",
        "import tensorflow\n",
        "from keras.models import Sequential\n",
        "from keras.layers import Dense\n",
        "from tensorflow.keras.layers import Flatten, Dense\n",
        "from tensorflow.keras import layers\n",
        "\n",
        "# Time\n",
        "import time"
      ]
    },
    {
      "cell_type": "code",
      "execution_count": null,
      "metadata": {
        "id": "fXBJl-7H3N5B"
      },
      "outputs": [],
      "source": [
        "def plot_data(X):\n",
        "    plt.plot(X[:, 0], X[:, 1], 'k.', markersize=2)\n",
        "\n",
        "def plot_centroids(centroids, weights=None, circle_color='w', cross_color='k'):\n",
        "    if weights is not None:\n",
        "        centroids = centroids[weights > weights.max() / 10]\n",
        "    plt.scatter(centroids[:, 0], centroids[:, 1],\n",
        "                marker='o', s=35, linewidths=8,\n",
        "                color=circle_color, zorder=10, alpha=0.9)\n",
        "    plt.scatter(centroids[:, 0], centroids[:, 1],\n",
        "                marker='x', s=2, linewidths=12,\n",
        "                color=cross_color, zorder=11, alpha=1)\n",
        "\n",
        "def plot_decision_boundaries(clusterer, X, resolution=1000, show_centroids=True,\n",
        "                             show_xlabels=True, show_ylabels=True):\n",
        "    mins = X.min(axis=0) - 0.1\n",
        "    maxs = X.max(axis=0) + 0.1\n",
        "    xx, yy = np.meshgrid(np.linspace(mins[0], maxs[0], resolution),\n",
        "                         np.linspace(mins[1], maxs[1], resolution))\n",
        "    Z = clusterer.predict(np.c_[xx.ravel(), yy.ravel()])\n",
        "    Z = Z.reshape(xx.shape)\n",
        "\n",
        "    plt.contourf(Z, extent=(mins[0], maxs[0], mins[1], maxs[1]),\n",
        "                cmap=\"Pastel2\")\n",
        "    plt.contour(Z, extent=(mins[0], maxs[0], mins[1], maxs[1]),\n",
        "                linewidths=1, colors='k')\n",
        "    plot_data(X)\n",
        "    if show_centroids:\n",
        "        plot_centroids(clusterer.cluster_centers_)\n",
        "\n",
        "    if show_xlabels:\n",
        "        plt.xlabel(\"$x_1$\")\n",
        "    else:\n",
        "        plt.tick_params(labelbottom=False)\n",
        "    if show_ylabels:\n",
        "        plt.ylabel(\"$x_2$\", rotation=0)\n",
        "    else:\n",
        "        plt.tick_params(labelleft=False)\n",
        "\n",
        "def plot_decision_boundaries_without_points(clusterer, X, resolution=1000, show_centroids=True,\n",
        "                             show_xlabels=True, show_ylabels=True):\n",
        "    mins = X.min(axis=0) - 0.1\n",
        "    maxs = X.max(axis=0) + 0.1\n",
        "    xx, yy = np.meshgrid(np.linspace(mins[0], maxs[0], resolution),\n",
        "                         np.linspace(mins[1], maxs[1], resolution))\n",
        "    Z = clusterer.predict(np.c_[xx.ravel(), yy.ravel()])\n",
        "    Z = Z.reshape(xx.shape)\n",
        "\n",
        "    plt.contourf(Z, extent=(mins[0], maxs[0], mins[1], maxs[1]),\n",
        "                cmap=\"Pastel2\")\n",
        "    plt.contour(Z, extent=(mins[0], maxs[0], mins[1], maxs[1]),\n",
        "                linewidths=1, colors='k')\n",
        "    if show_centroids:\n",
        "        plot_centroids(clusterer.cluster_centers_)\n",
        "\n",
        "    if show_xlabels:\n",
        "        plt.xlabel(\"$x_1$\")\n",
        "    else:\n",
        "        plt.tick_params(labelbottom=False)\n",
        "    if show_ylabels:\n",
        "        plt.ylabel(\"$x_2$\", rotation=0)\n",
        "    else:\n",
        "        plt.tick_params(labelleft=False)"
      ]
    },
    {
      "cell_type": "code",
      "execution_count": null,
      "metadata": {
        "id": "35R5pRFl5xBb"
      },
      "outputs": [],
      "source": [
        "def rgb2gray(rgb):\n",
        "    r, g, b = rgb[:,:,0], rgb[:,:,1], rgb[:,:,2]\n",
        "    gray = 0.2989 * r + 0.5870 * g + 0.1140 * b\n",
        "    return gray"
      ]
    },
    {
      "cell_type": "markdown",
      "metadata": {
        "id": "zCX-EZ-TsKCB"
      },
      "source": [
        "## Reading data"
      ]
    },
    {
      "cell_type": "markdown",
      "metadata": {
        "id": "9dzgwdbKK23-"
      },
      "source": [
        "Reading the 360 pics"
      ]
    },
    {
      "cell_type": "code",
      "execution_count": null,
      "metadata": {
        "id": "FppMMVBKsTN2"
      },
      "outputs": [],
      "source": [
        "path = '/content/360 Rocks'\n",
        "images_dir = os.listdir(path)\n",
        "\n",
        "rocks_360 = []\n",
        "for image_name in images_dir:\n",
        "    image_path = os.path.join(path, image_name)\n",
        "    new_size = (400, 400)\n",
        "    if os.path.isfile(image_path):\n",
        "        with Image.open(image_path) as img:\n",
        "            rocks_360.append(rgb2gray(np.array(img.resize(new_size))).flatten())\n",
        "    else:\n",
        "        print(f\"File not found: {image_path}\")"
      ]
    },
    {
      "cell_type": "markdown",
      "metadata": {
        "id": "fc34LuUZK5Kb"
      },
      "source": [
        "Reading the 120 pics"
      ]
    },
    {
      "cell_type": "code",
      "execution_count": null,
      "metadata": {
        "id": "xakd7aYyjeCG"
      },
      "outputs": [],
      "source": [
        "path2 = '/content/120 Rocks'\n",
        "images_dir2 = os.listdir(path2)\n",
        "\n",
        "rocks_120 = []\n",
        "for image_name in images_dir2:\n",
        "    image_path = os.path.join(path2, image_name)\n",
        "    new_size = (400, 400)\n",
        "    if os.path.isfile(image_path):\n",
        "        with Image.open(image_path) as img:\n",
        "            rocks_120.append(rgb2gray(np.array(img.resize(new_size))).flatten())\n",
        "    else:\n",
        "        print(f\"File not found: {image_path}\")"
      ]
    },
    {
      "cell_type": "code",
      "execution_count": null,
      "metadata": {
        "colab": {
          "base_uri": "https://localhost:8080/"
        },
        "id": "LD4rY5uswfC8",
        "outputId": "36119e1e-8307-4f5c-811d-e772e31f9c46"
      },
      "outputs": [],
      "source": [
        "rocks_360[0].shape"
      ]
    },
    {
      "cell_type": "code",
      "execution_count": null,
      "metadata": {
        "colab": {
          "base_uri": "https://localhost:8080/"
        },
        "id": "_Z9jsbwTjuiy",
        "outputId": "d43decfb-7ed5-4dd3-8f1b-bbcc25b1b185"
      },
      "outputs": [],
      "source": [
        "rocks_120[0].shape"
      ]
    },
    {
      "cell_type": "markdown",
      "metadata": {
        "id": "uhBml_tYa3u1"
      },
      "source": [
        "Reading MDS text file"
      ]
    },
    {
      "cell_type": "code",
      "execution_count": null,
      "metadata": {
        "id": "VrUkkZoTa3Fq"
      },
      "outputs": [],
      "source": [
        "mds_360 = []\n",
        "with open('mds_360.txt', 'r') as f:\n",
        "  for line in f:\n",
        "    mds_360.append(np.array([float(x) for x in line.split()]))"
      ]
    },
    {
      "cell_type": "code",
      "execution_count": null,
      "metadata": {
        "id": "eiJ_-sL7kDFs"
      },
      "outputs": [],
      "source": [
        "mds_120 = []\n",
        "with open('mds_120.txt', 'r') as f:\n",
        "  for line in f:\n",
        "    mds_120.append(np.array([float(x) for x in line.split()]))"
      ]
    },
    {
      "cell_type": "code",
      "execution_count": null,
      "metadata": {
        "id": "k77Mbqh4sT2H"
      },
      "outputs": [],
      "source": [
        "X = np.array(rocks_360)\n",
        "pca = PCA()\n",
        "pca.fit(X)\n",
        "cumsum = np.cumsum(pca.explained_variance_ratio_)\n",
        "d = np.argmax(cumsum >= 0.95) + 1"
      ]
    },
    {
      "cell_type": "code",
      "execution_count": null,
      "metadata": {
        "colab": {
          "base_uri": "https://localhost:8080/"
        },
        "id": "TBCZQN1hEjDs",
        "outputId": "67ea3316-665d-496e-c57b-33083a08d9bc"
      },
      "outputs": [],
      "source": [
        "d"
      ]
    },
    {
      "cell_type": "code",
      "execution_count": null,
      "metadata": {
        "colab": {
          "base_uri": "https://localhost:8080/",
          "height": 393
        },
        "id": "W5awp_QxFMDD",
        "outputId": "b5f1f0b4-3a05-43c9-c90d-1f0f7b86b137"
      },
      "outputs": [],
      "source": [
        "plt.figure(figsize=(6,4))\n",
        "plt.plot(cumsum, linewidth=3)\n",
        "plt.axis([0, 400, 0, 1])\n",
        "plt.xlabel(\"Dimensions\")\n",
        "plt.ylabel(\"Explained Variance\")\n",
        "plt.plot([d, d], [0, 0.95], \"k:\")\n",
        "plt.plot([0, d], [0.95, 0.95], \"k:\")\n",
        "plt.plot(d, 0.95, \"ko\")\n",
        "plt.grid(True)\n",
        "plt.show()"
      ]
    },
    {
      "cell_type": "code",
      "execution_count": null,
      "metadata": {
        "colab": {
          "base_uri": "https://localhost:8080/"
        },
        "id": "Fc3sBAKSHPxF",
        "outputId": "a72c6177-9b82-45f5-9244-ef3375e748a0"
      },
      "outputs": [],
      "source": [
        "pca = PCA(n_components=0.95)\n",
        "X_reduced = pca.fit_transform(X)\n",
        "pca.n_components_"
      ]
    },
    {
      "cell_type": "code",
      "execution_count": null,
      "metadata": {
        "colab": {
          "base_uri": "https://localhost:8080/"
        },
        "id": "LW9GkHJxHW7G",
        "outputId": "0bd7bdce-8dae-4e0f-c57e-05c4645dcfe0"
      },
      "outputs": [],
      "source": [
        "np.sum(pca.explained_variance_ratio_)"
      ]
    },
    {
      "cell_type": "markdown",
      "metadata": {
        "id": "KRut-oiUGJSC"
      },
      "source": [
        "*   **220** components are needed to preserve 95% of the variance.\n"
      ]
    },
    {
      "cell_type": "code",
      "execution_count": null,
      "metadata": {
        "id": "rL6Jsv_osXx6"
      },
      "outputs": [],
      "source": [
        "pca = PCA(n_components=220)\n",
        "X_reduced = pca.fit_transform(X)\n",
        "X_recovered = pca.inverse_transform(X_reduced)"
      ]
    },
    {
      "cell_type": "code",
      "execution_count": null,
      "metadata": {
        "colab": {
          "base_uri": "https://localhost:8080/",
          "height": 266
        },
        "id": "xsvKL7C8KRJh",
        "outputId": "8b87f61f-4f30-4287-81ab-ee8ef146d0a3"
      },
      "outputs": [],
      "source": [
        "def plot_rocks(instances, images_per_row=5, **options):\n",
        "    size = 400\n",
        "    images_per_row = min(len(instances), images_per_row)\n",
        "    n_rows = (len(instances) - 1) // images_per_row + 1\n",
        "\n",
        "    n_empty = n_rows * images_per_row - len(instances)\n",
        "    padded_instances = np.concatenate([instances, np.zeros((n_empty, size * size))], axis=0)\n",
        "\n",
        "    image_grid = padded_instances.reshape((n_rows, images_per_row, size, size))\n",
        "\n",
        "    big_image = image_grid.transpose(0, 2, 1, 3).reshape(n_rows * size,\n",
        "                                                         images_per_row * size)\n",
        "    plt.imshow(big_image, cmap = mpl.cm.binary, **options)\n",
        "    plt.axis(\"off\")\n",
        "\n",
        "# plot random 10 rocks\n",
        "random_indices = np.random.choice(len(X), 10, replace=False)\n",
        "plt.figure(figsize=(15, 10))\n",
        "plt.subplot(121)\n",
        "plot_rocks(X[random_indices])\n",
        "plt.title(\"Original\", fontsize=16)\n",
        "plt.subplot(122)\n",
        "plot_rocks(X_recovered[random_indices])\n",
        "plt.title(\"Compressed\", fontsize=16)\n"
      ]
    },
    {
      "cell_type": "code",
      "execution_count": null,
      "metadata": {
        "id": "OHAOn9i3VkXf"
      },
      "outputs": [],
      "source": [
        "# labels/categories\n",
        "y = np.array([i[0] for i in images_dir])"
      ]
    },
    {
      "cell_type": "code",
      "execution_count": null,
      "metadata": {
        "id": "7tbKyHqYsbq1"
      },
      "outputs": [],
      "source": [
        "pca = PCA(n_components=2)\n",
        "X_reduced_pca = pca.fit_transform(X)"
      ]
    },
    {
      "cell_type": "code",
      "execution_count": null,
      "metadata": {
        "colab": {
          "base_uri": "https://localhost:8080/"
        },
        "id": "NXtk4jq-SkGx",
        "outputId": "87973c35-9224-4c10-82bc-ee4099a760b2"
      },
      "outputs": [],
      "source": [
        "pca.explained_variance_ratio_"
      ]
    },
    {
      "cell_type": "markdown",
      "metadata": {
        "id": "vWiJKDfwS01V"
      },
      "source": [
        "*   The first component explains 22.22% of the variance, and the second one explains 11.60% of the variance."
      ]
    },
    {
      "cell_type": "markdown",
      "metadata": {
        "id": "u9TErPyyUjbx"
      },
      "source": [
        "#### **PCA**"
      ]
    },
    {
      "cell_type": "code",
      "execution_count": null,
      "metadata": {
        "colab": {
          "base_uri": "https://localhost:8080/"
        },
        "id": "NgfCXcJfUfOG",
        "outputId": "033cf0ec-3135-4980-eff5-38bd940e1b53"
      },
      "outputs": [],
      "source": [
        "y"
      ]
    },
    {
      "cell_type": "code",
      "execution_count": null,
      "metadata": {
        "id": "ph2hqXcOh5uv"
      },
      "outputs": [],
      "source": [
        "categories = np.unique(y)\n",
        "colors = ['#D53838', '#67BB60', '#3887D5']\n",
        "rock_images = [rock.reshape(400, 400) for rock in rocks_360[:50]]"
      ]
    },
    {
      "cell_type": "code",
      "execution_count": null,
      "metadata": {
        "colab": {
          "base_uri": "https://localhost:8080/",
          "height": 498
        },
        "id": "t77SygjrsioI",
        "outputId": "0c9a7e86-4068-4b56-f7d2-ecea40e233b9"
      },
      "outputs": [],
      "source": [
        "plt.figure(figsize=(8,5))\n",
        "\n",
        "plt.title(\"PCA\", fontsize=14)\n",
        "\n",
        "for category, color in zip(categories, colors):\n",
        "    indices = y == category\n",
        "    plt.scatter(X_reduced_pca[indices, 0], X_reduced_pca[indices, 1], c=color, label=category)\n",
        "\n",
        "# rock images\n",
        "for i, (img, xy) in enumerate(zip(rock_images, X_reduced_pca[:50])):\n",
        "    imagebox = OffsetImage(img, cmap=plt.get_cmap('gray'), zoom=0.1)\n",
        "    ab = AnnotationBbox(imagebox, xy, frameon=False)\n",
        "    plt.gca().add_artist(ab)\n",
        "\n",
        "plt.legend()\n",
        "\n",
        "plt.xlabel(\"$z_1$\", fontsize=18)\n",
        "plt.ylabel(\"$z_2$\", fontsize=18, rotation=0)\n",
        "plt.grid(True)\n",
        "\n",
        "plt.show()\n"
      ]
    },
    {
      "cell_type": "markdown",
      "metadata": {
        "id": "5sRsEjv_h87W"
      },
      "source": [
        "#### **t-SNE**"
      ]
    },
    {
      "cell_type": "code",
      "execution_count": null,
      "metadata": {
        "id": "x0stBqdLh8o6"
      },
      "outputs": [],
      "source": [
        "tsne = TSNE(n_components=2, random_state=42)\n",
        "X_reduced_tsne = tsne.fit_transform(X)"
      ]
    },
    {
      "cell_type": "code",
      "execution_count": null,
      "metadata": {
        "colab": {
          "base_uri": "https://localhost:8080/",
          "height": 498
        },
        "id": "zfmRi61uiFu-",
        "outputId": "06a5b540-0f71-438e-bd36-13df5c0b98fb"
      },
      "outputs": [],
      "source": [
        "plt.figure(figsize=(8,5))\n",
        "\n",
        "plt.title(\"t-SNE\", fontsize=14)\n",
        "\n",
        "for category, color in zip(categories, colors):\n",
        "    indices = y == category\n",
        "    plt.scatter(X_reduced_tsne[indices, 0], X_reduced_tsne[indices, 1], c=color, label=category)\n",
        "\n",
        "# rock images\n",
        "for i, (img, xy) in enumerate(zip(rock_images, X_reduced_tsne[:50])):\n",
        "    imagebox = OffsetImage(img, cmap=plt.get_cmap('gray'), zoom=0.1)\n",
        "    ab = AnnotationBbox(imagebox, xy, frameon=False)\n",
        "    plt.gca().add_artist(ab)\n",
        "\n",
        "plt.legend()\n",
        "\n",
        "plt.xlabel(\"$z_1$\", fontsize=18)\n",
        "plt.ylabel(\"$z_2$\", fontsize=18, rotation=0)\n",
        "plt.grid(True)\n",
        "\n",
        "plt.show()\n"
      ]
    },
    {
      "cell_type": "markdown",
      "metadata": {
        "id": "TFktpbBZiau3"
      },
      "source": [
        "#### **LLE**"
      ]
    },
    {
      "cell_type": "code",
      "execution_count": null,
      "metadata": {
        "id": "eNXQbKmBifgy"
      },
      "outputs": [],
      "source": [
        "lle = LocallyLinearEmbedding(n_components=2, n_neighbors=10, random_state=42)\n",
        "X_reduced_lle = lle.fit_transform(X)"
      ]
    },
    {
      "cell_type": "code",
      "execution_count": null,
      "metadata": {
        "colab": {
          "base_uri": "https://localhost:8080/",
          "height": 498
        },
        "id": "s0cW3jCIivbN",
        "outputId": "da72d945-9be6-448f-e3a2-4ba421d14f56"
      },
      "outputs": [],
      "source": [
        "plt.figure(figsize=(8,5))\n",
        "\n",
        "plt.title(\"LLE\", fontsize=14)\n",
        "\n",
        "for category, color in zip(categories, colors):\n",
        "    indices = y == category\n",
        "    plt.scatter(X_reduced_lle[indices, 0], X_reduced_lle[indices, 1], c=color, label=category)\n",
        "\n",
        "# rock images\n",
        "for i, (img, xy) in enumerate(zip(rock_images, X_reduced_lle[:50])):\n",
        "    imagebox = OffsetImage(img, cmap=plt.get_cmap('gray'), zoom=0.1)\n",
        "    ab = AnnotationBbox(imagebox, xy, frameon=False)\n",
        "    plt.gca().add_artist(ab)\n",
        "\n",
        "plt.legend()\n",
        "\n",
        "plt.xlabel(\"$z_1$\", fontsize=18)\n",
        "plt.ylabel(\"$z_2$\", fontsize=18, rotation=0)\n",
        "plt.grid(True)\n",
        "\n",
        "plt.show()\n"
      ]
    },
    {
      "cell_type": "markdown",
      "metadata": {
        "id": "DH0G-vpPra9r"
      },
      "source": [
        "#### **MDS**"
      ]
    },
    {
      "cell_type": "code",
      "execution_count": null,
      "metadata": {
        "id": "kiEMQM8Lre_C"
      },
      "outputs": [],
      "source": [
        "mds = MDS(n_components=2, random_state=42)\n",
        "X_reduced_mds = mds.fit_transform(X)"
      ]
    },
    {
      "cell_type": "code",
      "execution_count": null,
      "metadata": {
        "colab": {
          "base_uri": "https://localhost:8080/",
          "height": 498
        },
        "id": "KLPZksMzrjfr",
        "outputId": "a9664a9d-67c0-44a9-eed2-410ee52f22fa"
      },
      "outputs": [],
      "source": [
        "plt.figure(figsize=(8,5))\n",
        "\n",
        "plt.title(\"MDS\", fontsize=14)\n",
        "\n",
        "for category, color in zip(categories, colors):\n",
        "    indices = y == category\n",
        "    plt.scatter(X_reduced_mds[indices, 0], X_reduced_mds[indices, 1], c=color, label=category)\n",
        "\n",
        "# rock images\n",
        "for i, (img, xy) in enumerate(zip(rock_images, X_reduced_mds[:50])):\n",
        "    imagebox = OffsetImage(img, cmap=plt.get_cmap('gray'), zoom=0.1)\n",
        "    ab = AnnotationBbox(imagebox, xy, frameon=False)\n",
        "    plt.gca().add_artist(ab)\n",
        "\n",
        "plt.legend()\n",
        "\n",
        "plt.xlabel(\"$z_1$\", fontsize=18)\n",
        "plt.ylabel(\"$z_2$\", fontsize=18, rotation=0)\n",
        "plt.grid(True)\n",
        "\n",
        "plt.show()"
      ]
    },
    {
      "cell_type": "markdown",
      "metadata": {
        "id": "L4Zv9E4p6O_4"
      },
      "source": [
        "*   By the looks of it, MDS seems to capture the most diverse set of distinct visual properties of the rocks (shapes, textures...). It also clusters rocks of similar features together (e.g., smaller rocks in the very top, more contrasted rocks in the far left...). This shows that it preserves intrinsic similarities present in the original images. For those reasons, MDS is elected to be the best reduction technique. t-SNE would be a close second.\n"
      ]
    },
    {
      "cell_type": "markdown",
      "metadata": {
        "id": "_OHjFxz3Pz4B"
      },
      "source": [
        "### Dimensionality reduction"
      ]
    },
    {
      "cell_type": "code",
      "execution_count": null,
      "metadata": {
        "id": "jLrrytq6srSU"
      },
      "outputs": [],
      "source": [
        "# PCA\n",
        "pca = PCA(n_components=8)\n",
        "X_reduced_pca = pca.fit_transform(X)"
      ]
    },
    {
      "cell_type": "code",
      "execution_count": null,
      "metadata": {
        "id": "PA49PPNkQWd2"
      },
      "outputs": [],
      "source": [
        "# t-SNE\n",
        "tsne = TSNE(n_components=8, method=\"exact\", random_state=42)\n",
        "X_reduced_tsne = tsne.fit_transform(X)"
      ]
    },
    {
      "cell_type": "code",
      "execution_count": null,
      "metadata": {
        "id": "1-n3KS5PRRbJ"
      },
      "outputs": [],
      "source": [
        "# LLE\n",
        "lle = LocallyLinearEmbedding(n_components=8, random_state=42)\n",
        "X_reduced_lle = lle.fit_transform(X)"
      ]
    },
    {
      "cell_type": "code",
      "execution_count": null,
      "metadata": {
        "id": "wO6KxmrpRkHH"
      },
      "outputs": [],
      "source": [
        "# MDS\n",
        "mds = MDS(n_components=8, random_state=42)\n",
        "X_reduced_mds = mds.fit_transform(X)"
      ]
    },
    {
      "cell_type": "markdown",
      "metadata": {
        "id": "pcIYsyVzR67d"
      },
      "source": [
        "### Image embeddings comparison"
      ]
    },
    {
      "cell_type": "code",
      "execution_count": null,
      "metadata": {
        "id": "oQIssqlpS7fx"
      },
      "outputs": [],
      "source": [
        "# Procrustes analysis\n",
        "mtx1_pca, mtx2_pca, disparity_pca = procrustes(mds_360, X_reduced_pca)\n",
        "mtx1_tsne, mtx2_tsne, disparity_tsne = procrustes(mds_360, X_reduced_tsne)\n",
        "mtx1_mds, mtx2_mds, disparity_mds = procrustes(mds_360, X_reduced_mds)\n",
        "mtx1_lle, mtx2_lle, disparity_lle = procrustes(mds_360, X_reduced_lle)"
      ]
    },
    {
      "cell_type": "code",
      "execution_count": null,
      "metadata": {
        "colab": {
          "base_uri": "https://localhost:8080/"
        },
        "id": "ZfUTVEOiLyDU",
        "outputId": "fdbf8ab1-9234-4d83-e09c-0c55a009e775"
      },
      "outputs": [],
      "source": [
        "mtx1_pca.shape"
      ]
    },
    {
      "cell_type": "markdown",
      "metadata": {
        "id": "6UXhNhTtid18"
      },
      "source": [
        "**PCA's Disparity**"
      ]
    },
    {
      "cell_type": "code",
      "execution_count": null,
      "metadata": {
        "colab": {
          "base_uri": "https://localhost:8080/"
        },
        "id": "iIg9hI8iUbGq",
        "outputId": "6b5b5065-4754-49f0-83fb-316eacff5b8a"
      },
      "outputs": [],
      "source": [
        "disparity_pca"
      ]
    },
    {
      "cell_type": "markdown",
      "metadata": {
        "id": "MySvsZNKig6D"
      },
      "source": [
        "**t-SNE's Disparity**"
      ]
    },
    {
      "cell_type": "code",
      "execution_count": null,
      "metadata": {
        "colab": {
          "base_uri": "https://localhost:8080/"
        },
        "id": "HmDfBlSvUdWR",
        "outputId": "f769975f-a1a2-4fb3-ac10-5e8d84584d7d"
      },
      "outputs": [],
      "source": [
        "disparity_tsne"
      ]
    },
    {
      "cell_type": "markdown",
      "metadata": {
        "id": "_lTeC8giiqkH"
      },
      "source": [
        "**MDS' Disparity**"
      ]
    },
    {
      "cell_type": "code",
      "execution_count": null,
      "metadata": {
        "colab": {
          "base_uri": "https://localhost:8080/"
        },
        "id": "sRb7OdcDUfJ2",
        "outputId": "98272c2e-85c7-4521-8df3-8b31a49fab78"
      },
      "outputs": [],
      "source": [
        "disparity_mds"
      ]
    },
    {
      "cell_type": "markdown",
      "metadata": {
        "id": "uoPPGXDbiuUG"
      },
      "source": [
        "**LLE's Disparity**"
      ]
    },
    {
      "cell_type": "code",
      "execution_count": null,
      "metadata": {
        "colab": {
          "base_uri": "https://localhost:8080/"
        },
        "id": "_ZpwocZ0UgwS",
        "outputId": "98feefbd-729b-4119-cf1a-98c3812b0021"
      },
      "outputs": [],
      "source": [
        "disparity_lle"
      ]
    },
    {
      "cell_type": "markdown",
      "metadata": {
        "id": "3XFj0m5hUwlX"
      },
      "source": [
        "*   LLE has the lowest disparity value which suggests that it aligns best with human perception of the images."
      ]
    },
    {
      "cell_type": "code",
      "execution_count": null,
      "metadata": {
        "id": "2B581oCrVpMQ"
      },
      "outputs": [],
      "source": [
        "def compute_correlation_coefficient(mtx1, mtx2):\n",
        "    correlations = []\n",
        "    for i in range(mtx1.shape[1]):\n",
        "        correlation = np.corrcoef(mtx1[:, i], mtx2[:, i])[0, 1]\n",
        "        correlations.append(correlation)\n",
        "    return correlations\n",
        "\n",
        "correlations_pca = compute_correlation_coefficient(mtx1_pca, mtx2_pca)\n",
        "correlations_tsne = compute_correlation_coefficient(mtx1_tsne, mtx2_tsne)\n",
        "correlations_mds = compute_correlation_coefficient(mtx1_mds, mtx2_mds)\n",
        "correlations_lle = compute_correlation_coefficient(mtx1_lle, mtx2_lle)\n",
        "\n",
        "correlation_data = {\n",
        "    'PCA': correlations_pca,\n",
        "    't-SNE': correlations_tsne,\n",
        "    'MDS': correlations_mds,\n",
        "    'LLE': correlations_lle,\n",
        "}\n",
        "\n",
        "correlation_table = pd.DataFrame(correlation_data)"
      ]
    },
    {
      "cell_type": "code",
      "execution_count": null,
      "metadata": {
        "colab": {
          "base_uri": "https://localhost:8080/",
          "height": 300
        },
        "id": "IyiWicGBe5aN",
        "outputId": "9314cff7-a17f-4570-a2b7-adc3080707c2"
      },
      "outputs": [],
      "source": [
        "# from 0 to 7, are the features\n",
        "correlation_table"
      ]
    },
    {
      "cell_type": "code",
      "execution_count": null,
      "metadata": {
        "colab": {
          "base_uri": "https://localhost:8080/"
        },
        "id": "ZKBbml3SP2-H",
        "outputId": "40df1091-a776-431c-8e0f-84f28329b60e"
      },
      "outputs": [],
      "source": [
        "pca = PCA(n_components=2)\n",
        "X2D = pca.fit_transform(rocks_360)\n",
        "np.sum(pca.explained_variance_ratio_)"
      ]
    },
    {
      "cell_type": "markdown",
      "metadata": {
        "id": "DnS6mqKuSJ-Z"
      },
      "source": [
        "Choosing the best number of clusters with silhouette scores"
      ]
    },
    {
      "cell_type": "code",
      "execution_count": null,
      "metadata": {
        "colab": {
          "base_uri": "https://localhost:8080/",
          "height": 317
        },
        "id": "hK6sDbOuMPSA",
        "outputId": "c21ce4d8-c5e6-4bd6-ca0d-257a2a5b1c2d"
      },
      "outputs": [],
      "source": [
        "kmeans_per_k = [KMeans(n_clusters=k, random_state=42).fit(X2D)\n",
        "                for k in range(1, 10)]\n",
        "silhouette_scores = [silhouette_score(X2D, model.labels_)\n",
        "                     for model in kmeans_per_k[1:]]\n",
        "plt.figure(figsize=(8, 3))\n",
        "plt.plot(range(2, 10), silhouette_scores, \"bo-\")\n",
        "plt.xlabel(\"$k$\")\n",
        "plt.ylabel(\"Silhouette score\")\n",
        "plt.grid()\n",
        "plt.show()"
      ]
    },
    {
      "cell_type": "markdown",
      "metadata": {
        "id": "dj6siUGdaOs1"
      },
      "source": [
        "*  **4** seems to be the ideal number of clusters."
      ]
    },
    {
      "cell_type": "code",
      "execution_count": null,
      "metadata": {
        "colab": {
          "base_uri": "https://localhost:8080/"
        },
        "id": "6PU3VqI1syUW",
        "outputId": "633c6ff1-7e3d-4d98-b27f-1c8744c4854f"
      },
      "outputs": [],
      "source": [
        "kmeans = KMeans(n_clusters=4, random_state=42)\n",
        "y_pred = kmeans.fit_predict(X2D)\n",
        "kmeans.cluster_centers_"
      ]
    },
    {
      "cell_type": "code",
      "execution_count": null,
      "metadata": {
        "colab": {
          "base_uri": "https://localhost:8080/",
          "height": 411
        },
        "id": "2vxiSqM43JPm",
        "outputId": "f2015819-d6db-4c89-d8aa-a9bc40f626a9"
      },
      "outputs": [],
      "source": [
        "plot_decision_boundaries(kmeans, X2D, show_centroids=True,\n",
        "                         show_xlabels=False)"
      ]
    },
    {
      "cell_type": "code",
      "execution_count": null,
      "metadata": {
        "id": "w1Y9JBies3TG"
      },
      "outputs": [],
      "source": [
        "# labels/categories\n",
        "y = np.array([i[0] for i in images_dir])"
      ]
    },
    {
      "cell_type": "code",
      "execution_count": null,
      "metadata": {
        "colab": {
          "base_uri": "https://localhost:8080/",
          "height": 349
        },
        "id": "RjbYJd1fOm9u",
        "outputId": "89394d4c-a115-40ee-9cea-a5523024e437"
      },
      "outputs": [],
      "source": [
        "categories = np.unique(y)\n",
        "colors = ['#D53838', '#67BB60', '#3887D5']\n",
        "\n",
        "plt.figure(figsize=(7,4))\n",
        "plot_decision_boundaries_without_points(kmeans, X2D, show_centroids=True,\n",
        "                         show_xlabels=False)\n",
        "\n",
        "for category, color in zip(categories, colors):\n",
        "    indices = y == category\n",
        "    plt.scatter(X2D[indices, 0], X2D[indices, 1], c=color, label=category)\n",
        "\n",
        "plt.legend()\n",
        "plt.grid(True)\n",
        "plt.show()"
      ]
    },
    {
      "cell_type": "markdown",
      "metadata": {
        "id": "LS0--1xpSWNX"
      },
      "source": [
        "So we can see that our clusterisation with only 2 principal components does not really make sense in this specific task"
      ]
    },
    {
      "cell_type": "markdown",
      "metadata": {
        "id": "l3GP2Y8RSh5D"
      },
      "source": [
        "Let's choose the model using information criterions"
      ]
    },
    {
      "cell_type": "code",
      "execution_count": null,
      "metadata": {
        "colab": {
          "base_uri": "https://localhost:8080/",
          "height": 312
        },
        "id": "50_6WYiaTq9B",
        "outputId": "5993b713-3a6b-429b-9708-532e24959347"
      },
      "outputs": [],
      "source": [
        "gms_per_k = [GaussianMixture(n_components=k, n_init=10, random_state=42).fit(X2D)\n",
        "             for k in range(1, 11)]\n",
        "bics = [model.bic(X2D) for model in gms_per_k]\n",
        "aics = [model.aic(X2D) for model in gms_per_k]\n",
        "\n",
        "plt.figure(figsize=(8, 3))\n",
        "plt.plot(range(1, 11), bics, \"bo-\", label=\"BIC\")\n",
        "plt.plot(range(1, 11), aics, \"go--\", label=\"AIC\")\n",
        "plt.xlabel(\"$k$\")\n",
        "plt.ylabel(\"Information Criterion\")\n",
        "plt.legend()\n",
        "plt.grid()\n",
        "plt.show()"
      ]
    },
    {
      "cell_type": "markdown",
      "metadata": {
        "id": "CFxFCtqmSogN"
      },
      "source": [
        "We have interesting results because 2 criterions have different trends. For BIC the minimum is 3 while for AIC minimum is 5. As said it lecture slides, BIC use simpler model but usually \"tend to not fit the data quite as well\". So, let me choose 5 clusters."
      ]
    },
    {
      "cell_type": "code",
      "execution_count": null,
      "metadata": {
        "colab": {
          "base_uri": "https://localhost:8080/",
          "height": 75
        },
        "id": "rXa5z8ECSepT",
        "outputId": "90c34f00-8a8d-45d6-b4d1-ca5299259c99"
      },
      "outputs": [],
      "source": [
        "gm = GaussianMixture(n_components=5, n_init=10, random_state=42)\n",
        "gm.fit(X2D)"
      ]
    },
    {
      "cell_type": "code",
      "execution_count": null,
      "metadata": {
        "id": "lJgr_i7LStrl"
      },
      "outputs": [],
      "source": [
        "y_pred = gm.predict(X2D)"
      ]
    },
    {
      "cell_type": "code",
      "execution_count": null,
      "metadata": {
        "colab": {
          "base_uri": "https://localhost:8080/",
          "height": 349
        },
        "id": "OwXUqa67tBjZ",
        "outputId": "e667e49b-320a-4d44-a9a5-38c1915e0b5d"
      },
      "outputs": [],
      "source": [
        "categories = np.unique(y)\n",
        "colors = ['#D53838', '#67BB60', '#3887D5']\n",
        "\n",
        "plt.figure(figsize=(7,4))\n",
        "plot_decision_boundaries_without_points(gm, X2D, show_centroids=False,\n",
        "                         show_xlabels=False)\n",
        "\n",
        "for category, color in zip(categories, colors):\n",
        "    indices = y == category\n",
        "    plt.scatter(X2D[indices, 0], X2D[indices, 1], c=color, label=category)\n",
        "\n",
        "plt.legend()\n",
        "plt.show()"
      ]
    },
    {
      "cell_type": "markdown",
      "metadata": {
        "id": "EEB6E2qCTjDq"
      },
      "source": [
        "Again, clustering does not make lot of sense"
      ]
    },
    {
      "cell_type": "code",
      "execution_count": null,
      "metadata": {
        "id": "yzJrdWmTtE04"
      },
      "outputs": [],
      "source": [
        "gen_reduced, y_gen = gm.sample(n_samples=20)\n",
        "gen_rocks = pca.inverse_transform(gen_reduced)"
      ]
    },
    {
      "cell_type": "code",
      "execution_count": null,
      "metadata": {
        "colab": {
          "base_uri": "https://localhost:8080/"
        },
        "id": "EYxUeXInmLq5",
        "outputId": "fffda277-0b93-4c7c-e526-fa636cf606b1"
      },
      "outputs": [],
      "source": [
        "gen_rocks.shape"
      ]
    },
    {
      "cell_type": "code",
      "execution_count": null,
      "metadata": {
        "id": "OO6z21OZVi8p"
      },
      "outputs": [],
      "source": [
        "def plot_rocks(instances, images_per_row=5, **options):\n",
        "    size = 400\n",
        "    images_per_row = min(len(instances), images_per_row)\n",
        "    n_rows = (len(instances) - 1) // images_per_row + 1\n",
        "\n",
        "    n_empty = n_rows * images_per_row - len(instances)\n",
        "    padded_instances = np.concatenate([instances, np.zeros((n_empty, size * size))], axis=0)\n",
        "\n",
        "    # Reshape the array so it's organized as a grid containing 200×200 images\n",
        "    image_grid = padded_instances.reshape((n_rows, images_per_row, size, size))\n",
        "\n",
        "    big_image = image_grid.transpose(0, 2, 1, 3).reshape(n_rows * size, images_per_row * size)\n",
        "\n",
        "    # Now that we have a big image, we just need to show it with the specified colormap:\n",
        "    plt.imshow(big_image, cmap = mpl.cm.binary, **options)\n",
        "    plt.axis(\"off\")\n",
        "    plt.show()"
      ]
    },
    {
      "cell_type": "code",
      "execution_count": null,
      "metadata": {
        "colab": {
          "base_uri": "https://localhost:8080/",
          "height": 406
        },
        "id": "6LUXaunxUsU9",
        "outputId": "e8dcb8f3-a578-4240-bef1-e3e0701f5bcb"
      },
      "outputs": [],
      "source": [
        "plot_rocks(gen_rocks)"
      ]
    },
    {
      "cell_type": "markdown",
      "metadata": {
        "id": "IX0jirYET_ew"
      },
      "source": [
        "Mostly we have bad pictures becaue of PCA but we clearly can see different intensity of black and white. To see that let me plot some of true rocks"
      ]
    },
    {
      "cell_type": "code",
      "execution_count": null,
      "metadata": {
        "colab": {
          "base_uri": "https://localhost:8080/",
          "height": 406
        },
        "id": "GboAjypPUUUw",
        "outputId": "bc3616ae-aed2-4e87-9512-a569c6f208b7"
      },
      "outputs": [],
      "source": [
        "plot_rocks(rocks_360[:20])"
      ]
    },
    {
      "cell_type": "markdown",
      "metadata": {
        "id": "kAjHMkqIx53o"
      },
      "source": [
        "### Fixing input format"
      ]
    },
    {
      "cell_type": "code",
      "execution_count": null,
      "metadata": {
        "id": "TiiloqvBRBKC"
      },
      "outputs": [],
      "source": [
        "encoder = LabelEncoder()\n",
        "\n",
        "X_train = np.array(rocks_360)\n",
        "y_train = encoder.fit_transform([x[0] for x in images_dir])\n",
        "\n",
        "X_val = np.array(rocks_120)\n",
        "y_val = encoder.transform([x[0] for x in images_dir2])\n",
        "\n",
        "# normalize the data\n",
        "X_train = X_train / 255.0\n",
        "X_val = X_val / 255.0"
      ]
    },
    {
      "cell_type": "markdown",
      "metadata": {
        "id": "wv-TBZk5x-Vn"
      },
      "source": [
        "### Feedforward Neural Network Structure"
      ]
    },
    {
      "cell_type": "code",
      "execution_count": null,
      "metadata": {
        "id": "o1DJCvVcnlea"
      },
      "outputs": [],
      "source": [
        "model = keras.Sequential([\n",
        "    layers.Input(shape = X_train.shape[1:]),\n",
        "    layers.Reshape((400, 400, 1)),\n",
        "    layers.Conv2D(filters = 1,\n",
        "                  kernel_size = (50,50),\n",
        "                  activation='relu',\n",
        "                  padding='same',\n",
        "                  kernel_initializer='he_normal'),\n",
        "    layers.Flatten(),\n",
        "    layers.Dense(8,\n",
        "                 activation = 'relu',\n",
        "                 kernel_initializer = 'he_normal',\n",
        "                 name = 'comparison_layer'),\n",
        "    layers.Dense(3, activation='softmax')\n",
        "])"
      ]
    },
    {
      "cell_type": "code",
      "execution_count": null,
      "metadata": {
        "id": "rhwsJdYcnNnX"
      },
      "outputs": [],
      "source": [
        "keras.utils.plot_model(model, show_shapes=True)"
      ]
    },
    {
      "cell_type": "markdown",
      "metadata": {
        "id": "4bdyf4tPoH58"
      },
      "source": [
        "making an intermediate model for capturing the outputs of 8 neuron layer to compare it to humans"
      ]
    },
    {
      "cell_type": "code",
      "execution_count": null,
      "metadata": {
        "id": "H6OHh7nCY6V2"
      },
      "outputs": [],
      "source": [
        "intermediate_model = keras.Model(inputs = model.input, outputs=model.get_layer('comparison_layer').output)"
      ]
    },
    {
      "cell_type": "markdown",
      "metadata": {
        "id": "GJN-i-WAyNym"
      },
      "source": [
        "### Compiling Model"
      ]
    },
    {
      "cell_type": "code",
      "execution_count": null,
      "metadata": {
        "id": "HcFFYijsPxwq"
      },
      "outputs": [],
      "source": [
        "# Compile the model\n",
        "optimizer = keras.optimizers.Adam(learning_rate=0.0001)\n",
        "model.compile(\n",
        "    optimizer = optimizer,\n",
        "    loss='sparse_categorical_crossentropy',\n",
        "    metrics=['accuracy']\n",
        ")"
      ]
    },
    {
      "cell_type": "code",
      "execution_count": null,
      "metadata": {
        "colab": {
          "base_uri": "https://localhost:8080/"
        },
        "id": "Lwmw3TpbP2jf",
        "outputId": "b8a7f9e5-d704-47d5-f20c-48f2d7d09c43"
      },
      "outputs": [],
      "source": [
        "start_time = time.time()\n",
        "\n",
        "history = model.fit(X_train,\n",
        "                    y_train,\n",
        "                    epochs = 30,\n",
        "                    validation_data = (X_val, y_val))\n",
        "\n",
        "end_time = time.time()\n",
        "training_time = end_time - start_time"
      ]
    },
    {
      "cell_type": "code",
      "execution_count": null,
      "metadata": {
        "colab": {
          "base_uri": "https://localhost:8080/"
        },
        "id": "qXjekbBKyXX3",
        "outputId": "ec093353-77f0-4431-8233-e3fb05bbf5e4"
      },
      "outputs": [],
      "source": [
        "print(\"Time taken to train the model:\",training_time)"
      ]
    },
    {
      "cell_type": "code",
      "execution_count": null,
      "metadata": {
        "colab": {
          "base_uri": "https://localhost:8080/",
          "height": 445
        },
        "id": "kLMZFEAaB6Bp",
        "outputId": "11c815a9-3946-40ba-ad9e-2378a161dee1"
      },
      "outputs": [],
      "source": [
        "pd.DataFrame(history.history).plot(figsize=(8, 5))\n",
        "plt.grid(True)\n",
        "plt.gca().set_ylim(0, 1.75)\n",
        "plt.show()"
      ]
    },
    {
      "cell_type": "code",
      "execution_count": null,
      "metadata": {
        "colab": {
          "base_uri": "https://localhost:8080/"
        },
        "id": "1abkG8rctamw",
        "outputId": "062e75ab-0fc1-442a-8fd7-3957765df029"
      },
      "outputs": [],
      "source": [
        "comparison_layer_output_train = intermediate_model.predict(X_train)\n",
        "mtx1_train, mtx2_train, disparity_train = procrustes(mds_360, comparison_layer_output_train)"
      ]
    },
    {
      "cell_type": "code",
      "execution_count": null,
      "metadata": {
        "colab": {
          "base_uri": "https://localhost:8080/"
        },
        "id": "9P-tFN8_bvtE",
        "outputId": "e4d6f0c7-0077-469f-c270-65c876d38e35"
      },
      "outputs": [],
      "source": [
        "disparity_train"
      ]
    },
    {
      "cell_type": "code",
      "execution_count": null,
      "metadata": {
        "id": "tpYf0Ezld-n0"
      },
      "outputs": [],
      "source": [
        "correlations = []\n",
        "for i in range(mtx1_train.shape[1]):\n",
        "  correlation = np.corrcoef(mtx1_train[:, i], mtx2_train[:, i])[0, 1]\n",
        "  correlations.append(correlation)"
      ]
    },
    {
      "cell_type": "code",
      "execution_count": null,
      "metadata": {
        "colab": {
          "base_uri": "https://localhost:8080/"
        },
        "id": "YkHa0wjKb0St",
        "outputId": "0e27bf0a-991b-4849-c11b-ba7d8e820fa7"
      },
      "outputs": [],
      "source": [
        "correlations"
      ]
    },
    {
      "cell_type": "code",
      "execution_count": null,
      "metadata": {
        "colab": {
          "base_uri": "https://localhost:8080/"
        },
        "id": "hKh2GHF9Pr_F",
        "outputId": "64e859a9-7344-4ed6-ade5-9cecfc45d988"
      },
      "outputs": [],
      "source": [
        "comparison_layer_output_val = intermediate_model.predict(X_val)\n",
        "mtx1_val, mtx2_val, disparity_val = procrustes(mds_120, comparison_layer_output_val)"
      ]
    },
    {
      "cell_type": "code",
      "execution_count": null,
      "metadata": {
        "colab": {
          "base_uri": "https://localhost:8080/"
        },
        "id": "5OG1B9qRnLwI",
        "outputId": "53b153f7-3006-497f-f206-61db12c27d9b"
      },
      "outputs": [],
      "source": [
        "disparity_val"
      ]
    },
    {
      "cell_type": "code",
      "execution_count": null,
      "metadata": {
        "id": "I_fc9b4fnL4Q"
      },
      "outputs": [],
      "source": [
        "correlations2 = []\n",
        "for i in range(mtx1_val.shape[1]):\n",
        "  correlation = np.corrcoef(mtx1_val[:, i], mtx2_val[:, i])[0, 1]\n",
        "  correlations2.append(correlation)"
      ]
    },
    {
      "cell_type": "code",
      "execution_count": null,
      "metadata": {
        "colab": {
          "base_uri": "https://localhost:8080/"
        },
        "id": "hGgh8OD9nZJl",
        "outputId": "04b25596-450c-46ec-b73b-72d9cedd2641"
      },
      "outputs": [],
      "source": [
        "correlations"
      ]
    }
  ],
  "metadata": {
    "accelerator": "GPU",
    "colab": {
      "gpuType": "T4",
      "provenance": [],
      "toc_visible": true
    },
    "kernelspec": {
      "display_name": "Python 3",
      "name": "python3"
    },
    "language_info": {
      "name": "python"
    }
  },
  "nbformat": 4,
  "nbformat_minor": 0
}
